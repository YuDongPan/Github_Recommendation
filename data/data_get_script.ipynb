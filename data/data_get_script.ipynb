{
 "cells": [
  {
   "cell_type": "markdown",
   "id": "c6d19b38",
   "metadata": {},
   "source": [
    "# Introduction\n",
    "\n",
    "This notebook will help you to download original dataset storing in the `baidu cloud drive` by commands. Considering the variety of operating systems and device, our code only work on **Windows/Linux/MacOS** systems. If you encounter with any troubles like terrible network connection. please refer to the following url:\n",
    "\n",
    "`link`: <a href=\"https://pan.baidu.com/s/1Nk7lNznKyzeds9Wg21glsQ\">https://pan.baidu.com/s/1K0WTb1TN4mjBMYXK6sODpw</a>\n",
    "        \n",
    "`extraction code`:su9n"
   ]
  },
  {
   "cell_type": "markdown",
   "id": "4820b595",
   "metadata": {},
   "source": [
    "# Windows & Linux & MacOS"
   ]
  },
  {
   "cell_type": "markdown",
   "id": "a82ec0c6",
   "metadata": {},
   "source": [
    "## Step1:Download zip file from cloud to current directory"
   ]
  },
  {
   "cell_type": "code",
   "execution_count": 1,
   "id": "28986250",
   "metadata": {
    "ExecuteTime": {
     "end_time": "2022-09-06T14:34:11.150744Z",
     "start_time": "2022-09-06T14:34:01.676906Z"
    }
   },
   "outputs": [
    {
     "name": "stderr",
     "output_type": "stream",
     "text": [
      "  % Total    % Received % Xferd  Average Speed   Time    Time     Time  Current\n",
      "                                 Dload  Upload   Total   Spent    Left  Speed\n",
      "\n",
      "  0     0    0     0    0     0      0      0 --:--:-- --:--:-- --:--:--     0\n",
      "100    48    0    48    0     0    129      0 --:--:-- --:--:-- --:--:--   131\n",
      "\n",
      "  0     0    0     0    0     0      0      0 --:--:-- --:--:-- --:--:--     0\n",
      "  6 95.7M    6 6521k    0     0  4058k      0  0:00:24  0:00:01  0:00:23 6634k\n",
      " 18 95.7M   18 18.0M    0     0  6913k      0  0:00:14  0:00:02  0:00:12 9027k\n",
      " 30 95.7M   30 29.5M    0     0  8400k      0  0:00:11  0:00:03  0:00:08  9.9M\n",
      " 42 95.7M   42 40.5M    0     0  9039k      0  0:00:10  0:00:04  0:00:06 10.2M\n",
      " 54 95.7M   54 52.0M    0     0  9436k      0  0:00:10  0:00:05  0:00:05 10.3M\n",
      " 64 95.7M   64 62.0M    0     0  9529k      0  0:00:10  0:00:06  0:00:04 11.0M\n",
      " 76 95.7M   76 72.9M    0     0  9827k      0  0:00:09  0:00:07  0:00:02 11.1M\n",
      " 88 95.7M   88 85.1M    0     0   9.9M      0  0:00:09  0:00:08  0:00:01 11.1M\n",
      "100 95.7M  100 95.7M    0     0  10.1M      0  0:00:09  0:00:09 --:--:-- 11.4M\n"
     ]
    }
   ],
   "source": [
    "!curl -L -C - \"https://d.pcs.baidu.com/file/37521ebb1ke40c1a78e765a57b25fbaf?fid=864544264-250528-950080969033009&rt=pr&sign=FDtAERV-DCb740ccc5511e5e8fedcff06b081203-vMFedp112nulcXbT3MeS7wwwhfQ%3D&expires=8h&chkbd=0&chkv=3&dp-logid=2160417315274587921&dp-callid=0&dstime=1662474588&r=441119672&origin_appid=&file_type=0\" -o \"data.zip\" -A \"pan.baidu.com\" -b \"BDUSS=FCc3h4c0JXclc0NnpoaVlTSVYxY1hnT2p1Sk5aOVk1ckI2fjBISWJLMzZ0ejVqSVFBQUFBJCQAAAAAAAAAAAEAAACoM9eDvdxzZW7A97qmAAAAAAAAAAAAAAAAAAAAAAAAAAAAAAAAAAAAAAAAAAAAAAAAAAAAAAAAAAAAAAAAAAAAAAAAAPoqF2P6KhdjYk\""
   ]
  },
  {
   "cell_type": "markdown",
   "id": "593fd168",
   "metadata": {},
   "source": [
    "## Step2:Extract content from zip file "
   ]
  },
  {
   "cell_type": "code",
   "execution_count": 2,
   "id": "d945f18c",
   "metadata": {
    "ExecuteTime": {
     "end_time": "2022-09-06T14:34:27.211824Z",
     "start_time": "2022-09-06T14:34:26.865875Z"
    }
   },
   "outputs": [],
   "source": [
    "import zipfile\n",
    "\n",
    "filename = './data.zip'\n",
    "f = zipfile.ZipFile(filename, 'r')\n",
    "\n",
    "for file in f.namelist():\n",
    "    f.extract(file, './')\n",
    "    \n",
    "f.close()"
   ]
  },
  {
   "cell_type": "markdown",
   "id": "608ccf28",
   "metadata": {},
   "source": [
    "## Step3:Remove downloaded zip file"
   ]
  },
  {
   "cell_type": "code",
   "execution_count": null,
   "id": "01724530",
   "metadata": {},
   "outputs": [],
   "source": [
    "import os\n",
    "\n",
    "if os.path.exists(filename):\n",
    "    os.remove(filename)"
   ]
  }
 ],
 "metadata": {
  "kernelspec": {
   "display_name": "Python [conda env:PyG] *",
   "language": "python",
   "name": "conda-env-PyG-py"
  },
  "language_info": {
   "codemirror_mode": {
    "name": "ipython",
    "version": 3
   },
   "file_extension": ".py",
   "mimetype": "text/x-python",
   "name": "python",
   "nbconvert_exporter": "python",
   "pygments_lexer": "ipython3",
   "version": "3.8.13"
  }
 },
 "nbformat": 4,
 "nbformat_minor": 5
}
